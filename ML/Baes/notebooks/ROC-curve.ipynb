{
 "cells": [
  {
   "cell_type": "code",
   "execution_count": 4,
   "metadata": {},
   "outputs": [],
   "source": [
    "from typing import List, Any\n",
    "import main\n",
    "import os\n",
    "from matplotlib import pyplot as plt\n",
    "\n",
    "def draw_roc(x, y):\n",
    "    plt.plot(x, y)\n",
    "    plt.ylabel('TPR')\n",
    "    plt.xlabel('FPR')\n",
    "    plt.show()\n"
   ]
  },
  {
   "cell_type": "code",
   "execution_count": 5,
   "metadata": {
    "pycharm": {
     "name": "#%%\n"
    }
   },
   "outputs": [
    {
     "data": {
      "image/png": "[encoded data removed]",
      "text/plain": [
       "<Figure size 432x288 with 1 Axes>"
      ]
     },
     "metadata": {
      "needs_background": "light"
     },
     "output_type": "display_data"
    }
   ],
   "source": [
    "grams_sets = []\n",
    "for i in range(1, 11):\n",
    "    path = \"../data/part\" + str(i)\n",
    "    part_set_of_grams = [main.made_n_gram(path, name, 2)\n",
    "                            for name in os.listdir(path=path)]\n",
    "    grams_sets.append(part_set_of_grams)\n",
    "data_predict = []\n",
    "m_zero, m_one = 0, 0\n",
    "for i in range(10):\n",
    "    model = main.BayesClassifier(0.001, [1, 1])\n",
    "    train_data = []\n",
    "    for j in range(10):\n",
    "        if j != i:\n",
    "            train_data = train_data + grams_sets[j]\n",
    "    test_data = grams_sets[i]\n",
    "    model.fit(train_data)\n",
    "    predicted = model.binary_predict(test_data)\n",
    "    for k in range(len(test_data)):\n",
    "        _, y = test_data[k]\n",
    "        if y == 1:\n",
    "            m_one += 1\n",
    "        else:\n",
    "            m_zero += 1\n",
    "        data_predict.append((predicted[k], y))\n",
    "data_predict.sort()\n",
    "data_predict.reverse()\n",
    "x, y = [0], [0]\n",
    "for pred, clazz in data_predict:\n",
    "    if clazz == 0:\n",
    "        x.append(x[-1] + 1/m_zero)\n",
    "        y.append(y[-1])\n",
    "    else:\n",
    "        x.append(x[-1])\n",
    "        y.append(y[-1] + 1/m_one)\n",
    "draw_roc(x, y)"
   ]
  },
  {
   "cell_type": "code",
   "execution_count": 3,
   "metadata": {
    "pycharm": {
     "name": "#%%\n"
    }
   },
   "outputs": [],
   "source": []
  },
  {
   "cell_type": "code",
   "execution_count": 3,
   "metadata": {
    "pycharm": {
     "name": "#%%\n"
    }
   },
   "outputs": [],
   "source": []
  },
  {
   "cell_type": "code",
   "execution_count": 3,
   "metadata": {
    "pycharm": {
     "name": "#%%\n"
    }
   },
   "outputs": [],
   "source": []
  },
  {
   "cell_type": "code",
   "execution_count": 3,
   "metadata": {},
   "outputs": [],
   "source": []
  }
 ],
 "metadata": {
  "kernelspec": {
   "display_name": "Python 3",
   "language": "python",
   "name": "python3"
  },
  "language_info": {
   "codemirror_mode": {
    "name": "ipython",
    "version": 3
   },
   "file_extension": ".py",
   "mimetype": "text/x-python",
   "name": "python",
   "nbconvert_exporter": "python",
   "pygments_lexer": "ipython3",
   "version": "3.7.7"
  }
 },
 "nbformat": 4,
 "nbformat_minor": 1
}