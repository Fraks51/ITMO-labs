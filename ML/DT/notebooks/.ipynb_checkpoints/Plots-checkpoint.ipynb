{
 "cells": [
  {
   "cell_type": "code",
   "execution_count": 1,
   "metadata": {},
   "outputs": [],
   "source": [
    "import main\n",
    "from matplotlib import pyplot as plt\n",
    "import pandas as pd\n",
    "\n",
    "def draw_plot(x, y, y1):\n",
    "    plt.plot(x, y, label = \"Test data\")\n",
    "    plt.plot(x, y1, label = \"Train data\")\n",
    "    plt.ylabel('Accuracy')\n",
    "    plt.xlabel('Max depth')\n",
    "    plt.legend(loc='upper center')\n",
    "    plt.show()"
   ]
  },
  {
   "cell_type": "code",
   "execution_count": 2,
   "metadata": {
    "pycharm": {
     "name": "#%%\n"
    }
   },
   "outputs": [],
   "source": [
    "data_train = pd.read_csv(\"../data/16_train.csv\")\n",
    "data_test = pd.read_csv(\"../data/16_test.csv\")\n",
    "x = [i for i in range(1, 100)]\n",
    "y = [main.get_accuracy(data_train, data_test, i, 'entropy', 'best') for i in range(1, 100)]\n",
    "y1 = [main.get_accuracy(data_train, data_train, i, 'entropy', 'best') for i in range(1, 100)]"
   ]
  },
  {
   "cell_type": "code",
   "execution_count": 3,
   "metadata": {
    "pycharm": {
     "name": "#%%\n"
    }
   },
   "outputs": [],
   "source": [
    "data_train = pd.read_csv(\"../data/21_train.csv\")\n",
    "data_test = pd.read_csv(\"../data/21_test.csv\")\n",
    "x1 = [i for i in range(1, 100)]\n",
    "y = [main.get_accuracy(data_train, data_test, i, 'gini', 'best') for i in range(1, 100)]\n",
    "y1 = [main.get_accuracy(data_train, data_train, i, 'gini', 'best') for i in range(1, 100)]\n"
   ]
  },
  {
   "cell_type": "code",
   "execution_count": null,
   "metadata": {},
   "outputs": [],
   "source": []
  }
 ],
 "metadata": {
  "kernelspec": {
   "display_name": "Python 3",
   "language": "python",
   "name": "python3"
  },
  "language_info": {
   "codemirror_mode": {
    "name": "ipython",
    "version": 3
   },
   "file_extension": ".py",
   "mimetype": "text/x-python",
   "name": "python",
   "nbconvert_exporter": "python",
   "pygments_lexer": "ipython3",
   "version": "3.7.9"
  }
 },
 "nbformat": 4,
 "nbformat_minor": 1
}
