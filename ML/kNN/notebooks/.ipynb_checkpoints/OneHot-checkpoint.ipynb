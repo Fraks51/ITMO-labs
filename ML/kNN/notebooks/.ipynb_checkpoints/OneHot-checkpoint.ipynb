{
 "cells": [
  {
   "cell_type": "code",
   "execution_count": 1,
   "metadata": {},
   "outputs": [],
   "source": [
    "import main\n",
    "from matplotlib import pyplot as plt\n",
    "import pandas as pd\n",
    "\n",
    "\n",
    "def draw_plot(x, y):\n",
    "    plt.plot(x, y, label = '{}, {}, {}'.format('triweight', 'chebyshev', 'fixed'))\n",
    "    plt.ylabel('F - мера')\n",
    "    plt.xlabel('Ширина окна')\n",
    "    plt.legend(loc='upper center')\n",
    "    plt.show()"
   ]
  },
  {
   "cell_type": "code",
   "execution_count": 2,
   "metadata": {
    "pycharm": {
     "name": "#%%\n"
    }
   },
   "outputs": [
    {
     "data": {
      "image/png": "[encoded data removed]",
      "text/plain": [
       "<Figure size 432x288 with 1 Axes>"
      ]
     },
     "metadata": {
      "needs_background": "light"
     },
     "output_type": "display_data"
    }
   ],
   "source": [
    "\n",
    "    normalized_dataset_values = main.get_normalized_dataset('../data/seeds.csv')\n",
    "    len_dataset = len(normalized_dataset_values)\n",
    "    n, m = len_dataset * 9 // 10, len(normalized_dataset_values[0]) - 1\n",
    "    one_hot_matrix = [[1 if normalized_dataset_values[i][-1] == j + 1 else 0 for j in range(3)]\n",
    "                          for i in range(len(normalized_dataset_values))]\n",
    "    for i in range(len_dataset):\n",
    "        normalized_dataset_values[i] += one_hot_matrix[i]\n",
    "    x = []\n",
    "    y = []\n",
    "    for i in range(2,200,2):\n",
    "        x.append(i/100)\n",
    "        y.append(main.parameterized_regression('triweight', 'chebyshev', 'fixed', i/100, True, n, m,\n",
    "                                               normalized_dataset_values))\n",
    "    draw_plot(x, y)"
   ]
  },
  {
   "cell_type": "code",
   "execution_count": null,
   "metadata": {
    "pycharm": {
     "name": "#%%\n"
    }
   },
   "outputs": [],
   "source": []
  },
  {
   "cell_type": "code",
   "execution_count": null,
   "metadata": {},
   "outputs": [],
   "source": []
  }
 ],
 "metadata": {
  "kernelspec": {
   "display_name": "Python 3",
   "language": "python",
   "name": "python3"
  },
  "language_info": {
   "codemirror_mode": {
    "name": "ipython",
    "version": 3
   },
   "file_extension": ".py",
   "mimetype": "text/x-python",
   "name": "python",
   "nbconvert_exporter": "python",
   "pygments_lexer": "ipython3",
   "version": "3.7.9"
  }
 },
 "nbformat": 4,
 "nbformat_minor": 1
}
