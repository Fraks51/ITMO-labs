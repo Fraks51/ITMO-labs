{
 "cells": [
  {
   "cell_type": "code",
   "execution_count": 1,
   "metadata": {},
   "outputs": [
    {
     "name": "stdout",
     "output_type": "stream",
     "text": [
      "Model: \"sequential\"\n",
      "_________________________________________________________________\n",
      "Layer (type)                 Output Shape              Param #   \n",
      "=================================================================\n",
      "conv2d (Conv2D)              (None, 28, 28, 14)        140       \n",
      "_________________________________________________________________\n",
      "max_pooling2d (MaxPooling2D) (None, 14, 14, 14)        0         \n",
      "_________________________________________________________________\n",
      "conv2d_1 (Conv2D)            (None, 14, 14, 28)        3556      \n",
      "_________________________________________________________________\n",
      "max_pooling2d_1 (MaxPooling2 (None, 7, 7, 28)          0         \n",
      "_________________________________________________________________\n",
      "flatten (Flatten)            (None, 1372)              0         \n",
      "_________________________________________________________________\n",
      "dense (Dense)                (None, 64)                87872     \n",
      "_________________________________________________________________\n",
      "dense_1 (Dense)              (None, 10)                650       \n",
      "=================================================================\n",
      "Total params: 92,218\n",
      "Trainable params: 92,218\n",
      "Non-trainable params: 0\n",
      "_________________________________________________________________\n"
     ]
    }
   ],
   "source": [
    "import tensorflow as tf\n",
    "\n",
    "from tensorflow.keras import datasets, models, layers\n",
    "\n",
    "import matplotlib.pyplot as plt\n",
    "\n",
    "def reshaper(X):\n",
    "    X = X.reshape(list(X.shape) + [1])\n",
    "    return X\n",
    "\n",
    "(train_images, train_labels), (test_images, test_labels) = datasets.fashion_mnist.load_data()\n",
    "\n",
    "train_images = train_images / 255.0\n",
    "test_images = test_images / 255.0\n",
    "\n",
    "\n",
    "model = models.Sequential([\n",
    "    layers.Conv2D(14, (3, 3), padding=\"same\", activation='relu', input_shape=(28, 28, 1), kernel_initializer=\"he_normal\"),\n",
    "    layers.MaxPooling2D(),\n",
    "    layers.Conv2D(28, (3, 3), padding=\"same\", activation='relu',  kernel_initializer=\"he_normal\"),\n",
    "    layers.MaxPooling2D(),\n",
    "    layers.Flatten(),\n",
    "    layers.Dense(64, activation='relu', kernel_initializer=\"he_normal\"),\n",
    "    layers.Dense(10, activation='softmax', kernel_initializer=\"he_normal\"),\n",
    "])\n",
    "\n",
    "model.summary()"
   ]
  },
  {
   "cell_type": "code",
   "execution_count": 2,
   "metadata": {
    "pycharm": {
     "name": "#%%\n"
    }
   },
   "outputs": [
    {
     "name": "stdout",
     "output_type": "stream",
     "text": [
      "Epoch 1/10\n",
      "1875/1875 [==============================] - 26s 14ms/step - loss: 0.4479 - accuracy: 0.8405 - val_loss: 0.3564 - val_accuracy: 0.8746\n",
      "Epoch 2/10\n",
      "1875/1875 [==============================] - 28s 15ms/step - loss: 0.3020 - accuracy: 0.8908 - val_loss: 0.2965 - val_accuracy: 0.8915\n",
      "Epoch 3/10\n",
      "1875/1875 [==============================] - 26s 14ms/step - loss: 0.2611 - accuracy: 0.9049 - val_loss: 0.2854 - val_accuracy: 0.8973\n",
      "Epoch 4/10\n",
      "1875/1875 [==============================] - 27s 14ms/step - loss: 0.2349 - accuracy: 0.9139 - val_loss: 0.2644 - val_accuracy: 0.9052\n",
      "Epoch 5/10\n",
      "1875/1875 [==============================] - 27s 14ms/step - loss: 0.2133 - accuracy: 0.9214 - val_loss: 0.2487 - val_accuracy: 0.9097\n",
      "Epoch 6/10\n",
      "1875/1875 [==============================] - 21s 11ms/step - loss: 0.1938 - accuracy: 0.9279 - val_loss: 0.2569 - val_accuracy: 0.9048\n",
      "Epoch 7/10\n",
      "1875/1875 [==============================] - 21s 11ms/step - loss: 0.1784 - accuracy: 0.9331 - val_loss: 0.2454 - val_accuracy: 0.9111\n",
      "Epoch 8/10\n",
      "1875/1875 [==============================] - 24s 13ms/step - loss: 0.1632 - accuracy: 0.9395 - val_loss: 0.2617 - val_accuracy: 0.9107\n",
      "Epoch 9/10\n",
      "1875/1875 [==============================] - 27s 15ms/step - loss: 0.1514 - accuracy: 0.9428 - val_loss: 0.2439 - val_accuracy: 0.9146\n",
      "Epoch 10/10\n",
      "1875/1875 [==============================] - 24s 13ms/step - loss: 0.1384 - accuracy: 0.9488 - val_loss: 0.2488 - val_accuracy: 0.9187\n"
     ]
    },
    {
     "data": {
      "text/plain": [
       "<matplotlib.legend.Legend at 0x7f46d006eb20>"
      ]
     },
     "execution_count": 2,
     "metadata": {},
     "output_type": "execute_result"
    },
    {
     "data": {
      "image/png": "[encoded data removed]",
      "text/plain": [
       "<Figure size 432x288 with 1 Axes>"
      ]
     },
     "metadata": {
      "needs_background": "light"
     },
     "output_type": "display_data"
    }
   ],
   "source": [
    "\n",
    "train_images = reshaper(train_images)\n",
    "test_images = reshaper(test_images)\n",
    "test_labels = reshaper(test_labels)\n",
    "train_labels = reshaper(train_labels)\n",
    "\n",
    "model.compile(optimizer='adam',\n",
    "              loss=tf.keras.losses.SparseCategoricalCrossentropy(),\n",
    "              metrics=['accuracy'])\n",
    "\n",
    "history = model.fit(train_images, train_labels, epochs=10,\n",
    "                    validation_data=(test_images, test_labels))\n",
    "\n",
    "plt.plot(history.history['accuracy'], label='accuracy')\n",
    "plt.plot(history.history['val_accuracy'], label = 'val_accuracy')\n",
    "plt.xlabel('Epoch')\n",
    "plt.ylabel('Accuracy')\n",
    "plt.legend(loc='lower right')"
   ]
  },
  {
   "cell_type": "code",
   "execution_count": null,
   "metadata": {
    "pycharm": {
     "name": "#%%\n"
    }
   },
   "outputs": [],
   "source": [
    "CM = [[0 for _ in range(10)] for _ in range(10)]\n",
    "ims = [[(None, None) for _ in range(10)] for _ in range(10)]\n",
    "pred_prob = model.predict(test_images)\n",
    "pred = model.predict_classes(test_images)\n",
    "for i in range(10000):\n",
    "    CM[test_labels[i][0]][pred[i]] += 1\n",
    "\n",
    "    (cur, _) = ims[test_labels[i][0]][pred[i]]\n",
    "    if cur is None or cur < pred_prob[i][pred[i]]:\n",
    "        ims[test_labels[i][0]][pred[i]] = (pred_prob[i][pred[i]], i)\n",
    "for string in CM:\n",
    "    print(string)"
   ]
  },
  {
   "cell_type": "code",
   "execution_count": null,
   "metadata": {},
   "outputs": [],
   "source": [
    "plt.figure(figsize=(20,20))\n",
    "\n",
    "for i in range(10):\n",
    "    for j in range(10):\n",
    "        plt.subplot(10,10, 10 * i + j + 1)\n",
    "        plt.xticks([])\n",
    "        plt.yticks([])\n",
    "        plt.grid(False)\n",
    "        (_, k) = ims[i][j]\n",
    "        if not k is None:\n",
    "            plt.imshow(test_images[k], cmap=plt.cm.binary)\n",
    "            plt.xlabel(\"Real {}, Pred {}\".format(i, j))"
   ]
  },
  {
   "cell_type": "code",
   "execution_count": null,
   "outputs": [],
   "source": [],
   "metadata": {
    "collapsed": false,
    "pycharm": {
     "name": "#%%\n"
    }
   }
  }
 ],
 "metadata": {
  "kernelspec": {
   "display_name": "Python 3",
   "language": "python",
   "name": "python3"
  },
  "language_info": {
   "codemirror_mode": {
    "name": "ipython",
    "version": 3
   },
   "file_extension": ".py",
   "mimetype": "text/x-python",
   "name": "python",
   "nbconvert_exporter": "python",
   "pygments_lexer": "ipython3",
   "version": "3.8.5"
  }
 },
 "nbformat": 4,
 "nbformat_minor": 1
}