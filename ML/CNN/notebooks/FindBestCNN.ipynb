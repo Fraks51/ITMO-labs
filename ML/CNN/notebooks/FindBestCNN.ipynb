{
 "cells": [
  {
   "cell_type": "code",
   "execution_count": 9,
   "metadata": {},
   "outputs": [
    {
     "name": "stdout",
     "output_type": "stream",
     "text": [
      "Model: \"sequential_2\"\n",
      "_________________________________________________________________\n",
      "Layer (type)                 Output Shape              Param #   \n",
      "=================================================================\n",
      "conv2d_5 (Conv2D)            (None, 28, 28, 14)        140       \n",
      "_________________________________________________________________\n",
      "max_pooling2d_5 (MaxPooling2 (None, 14, 14, 14)        0         \n",
      "_________________________________________________________________\n",
      "conv2d_6 (Conv2D)            (None, 14, 14, 28)        3556      \n",
      "_________________________________________________________________\n",
      "max_pooling2d_6 (MaxPooling2 (None, 7, 7, 28)          0         \n",
      "_________________________________________________________________\n",
      "conv2d_7 (Conv2D)            (None, 7, 7, 56)          14168     \n",
      "_________________________________________________________________\n",
      "max_pooling2d_7 (MaxPooling2 (None, 3, 3, 56)          0         \n",
      "_________________________________________________________________\n",
      "flatten_2 (Flatten)          (None, 504)               0         \n",
      "_________________________________________________________________\n",
      "dense_4 (Dense)              (None, 64)                32320     \n",
      "_________________________________________________________________\n",
      "dense_5 (Dense)              (None, 10)                650       \n",
      "=================================================================\n",
      "Total params: 50,834\n",
      "Trainable params: 50,834\n",
      "Non-trainable params: 0\n",
      "_________________________________________________________________\n"
     ]
    }
   ],
   "source": [
    "import tensorflow as tf\n",
    "\n",
    "from tensorflow.keras import datasets, models, layers\n",
    "\n",
    "import matplotlib.pyplot as plt\n",
    "\n",
    "def reshaper(X):\n",
    "    X = X.reshape(list(X.shape) + [1])\n",
    "    return X\n",
    "\n",
    "(train_images, train_labels), (test_images, test_labels) = datasets.mnist.load_data()\n",
    "\n",
    "train_images = train_images / 255.0\n",
    "test_images = test_images / 255.0\n",
    "\n",
    "first_model = models.Sequential([\n",
    "    layers.Conv2D(14, (3, 3), padding=\"same\", activation='relu', input_shape=(28, 28, 1), kernel_initializer=\"he_normal\"),\n",
    "    layers.MaxPooling2D(),\n",
    "    layers.Conv2D(28, (3, 3), padding=\"same\", activation='relu', kernel_initializer=\"he_normal\"),\n",
    "    layers.MaxPooling2D(),\n",
    "    layers.Conv2D(56, (3, 3), padding=\"same\", activation='relu', kernel_initializer=\"he_normal\"),\n",
    "    layers.MaxPooling2D(),\n",
    "    layers.Flatten(),\n",
    "    layers.Dense(64, activation='relu', kernel_initializer=\"he_normal\"),\n",
    "    layers.Dense(10, activation='softmax', kernel_initializer=\"he_normal\"),\n",
    "])\n",
    "\n",
    "train_images = reshaper(train_images)\n",
    "test_images = reshaper(test_images)\n",
    "test_labels = reshaper(test_labels)\n",
    "train_labels = reshaper(train_labels)\n",
    "\n",
    "first_model.summary()"
   ]
  },
  {
   "cell_type": "code",
   "execution_count": null,
   "metadata": {
    "pycharm": {
     "name": "#%%\n"
    }
   },
   "outputs": [
    {
     "name": "stdout",
     "output_type": "stream",
     "text": [
      "Epoch 1/10\n",
      "1875/1875 [==============================] - 26s 14ms/step - loss: 0.1590 - accuracy: 0.9506 - val_loss: 0.0534 - val_accuracy: 0.9839\n",
      "Epoch 2/10\n",
      "1875/1875 [==============================] - 26s 14ms/step - loss: 0.0487 - accuracy: 0.9851 - val_loss: 0.0487 - val_accuracy: 0.9847\n",
      "Epoch 3/10\n",
      "1875/1875 [==============================] - 21s 11ms/step - loss: 0.0369 - accuracy: 0.9885 - val_loss: 0.0400 - val_accuracy: 0.9876\n",
      "Epoch 4/10\n",
      "1875/1875 [==============================] - 29s 16ms/step - loss: 0.0285 - accuracy: 0.9908 - val_loss: 0.0279 - val_accuracy: 0.9902\n",
      "Epoch 5/10\n",
      " 957/1875 [==============>...............] - ETA: 12s - loss: 0.0200 - accuracy: 0.9936"
     ]
    }
   ],
   "source": [
    "\n",
    "first_model.compile(optimizer='adam',\n",
    "              loss=tf.keras.losses.SparseCategoricalCrossentropy(),\n",
    "              metrics=['accuracy'])\n",
    "\n",
    "history = first_model.fit(train_images, train_labels, epochs=10,\n",
    "                    validation_data=(test_images, test_labels))\n",
    "\n",
    "plt.plot(history.history['accuracy'], label='accuracy')\n",
    "plt.plot(history.history['val_accuracy'], label = 'val_accuracy')\n",
    "plt.xlabel('Epoch')\n",
    "plt.ylabel('Accuracy')\n",
    "plt.legend(loc='lower right')"
   ]
  },
  {
   "cell_type": "code",
   "execution_count": null,
   "metadata": {
    "pycharm": {
     "name": "#%%\n"
    }
   },
   "outputs": [],
   "source": [
    "model = models.Sequential([\n",
    "    layers.Conv2D(14, (3, 3), padding=\"same\", activation='relu', input_shape=(28, 28, 1), kernel_initializer=\"he_normal\"),\n",
    "    layers.MaxPooling2D(),\n",
    "    layers.Conv2D(28, (3, 3), padding=\"same\", activation='relu', kernel_initializer=\"he_normal\"),\n",
    "    layers.MaxPooling2D(),\n",
    "    layers.Flatten(),\n",
    "    layers.Dense(32, activation='relu', kernel_initializer=\"he_normal\"),\n",
    "    layers.Dense(10, activation='softmax', kernel_initializer=\"he_normal\"),\n",
    "])\n",
    "\n",
    "model.summary()"
   ]
  },
  {
   "cell_type": "code",
   "execution_count": null,
   "metadata": {
    "pycharm": {
     "name": "#%%\n"
    }
   },
   "outputs": [],
   "source": [
    "model.compile(optimizer='adam',\n",
    "              loss=tf.keras.losses.SparseCategoricalCrossentropy(),\n",
    "              metrics=['accuracy'])\n",
    "\n",
    "history = model.fit(train_images, train_labels, epochs=10,\n",
    "                    validation_data=(test_images, test_labels))\n",
    "\n",
    "plt.plot(history.history['accuracy'], label='accuracy')\n",
    "plt.plot(history.history['val_accuracy'], label = 'val_accuracy')\n",
    "plt.xlabel('Epoch')\n",
    "plt.ylabel('Accuracy')\n",
    "plt.legend(loc='lower right')"
   ]
  },
  {
   "cell_type": "code",
   "execution_count": null,
   "metadata": {
    "pycharm": {
     "name": "#%%\n"
    }
   },
   "outputs": [],
   "source": [
    "\n",
    "CM = [[0 for _ in range(10)] for _ in range(10)]\n",
    "ims = [[(None, None) for _ in range(10)] for _ in range(10)]\n",
    "pred_prob = model.predict(test_images)\n",
    "pred = model.predict_classes(test_images)\n",
    "for i in range(10000):\n",
    "    CM[test_labels[i][0]][pred[i]] += 1\n",
    "    \n",
    "    (cur, _) = ims[test_labels[i][0]][pred[i]]\n",
    "    if cur is None or cur < pred_prob[i][pred[i]]:\n",
    "        ims[test_labels[i][0]][pred[i]] = (pred_prob[i][pred[i]], i)\n",
    "for string in CM:\n",
    "    print(string)"
   ]
  },
  {
   "cell_type": "code",
   "execution_count": null,
   "metadata": {
    "pycharm": {
     "name": "#%%\n"
    }
   },
   "outputs": [],
   "source": [
    "plt.figure(figsize=(20,20))\n",
    "\n",
    "for i in range(10):\n",
    "    for j in range(10):\n",
    "        plt.subplot(10,10, 10 * i + j + 1)\n",
    "        plt.xticks([])\n",
    "        plt.yticks([])\n",
    "        plt.grid(False)\n",
    "        (_, k) = ims[i][j]\n",
    "        if not k is None:\n",
    "            plt.imshow(test_images[k], cmap=plt.cm.binary)\n",
    "            plt.xlabel(\"Real {}, Pred {}\".format(i, j))"
   ]
  },
  {
   "cell_type": "code",
   "execution_count": null,
   "metadata": {
    "pycharm": {
     "name": "#%%\n"
    }
   },
   "outputs": [],
   "source": []
  },
  {
   "cell_type": "code",
   "execution_count": null,
   "metadata": {
    "pycharm": {
     "name": "#%%\n"
    }
   },
   "outputs": [],
   "source": []
  },
  {
   "cell_type": "code",
   "execution_count": null,
   "metadata": {},
   "outputs": [],
   "source": []
  }
 ],
 "metadata": {
  "kernelspec": {
   "display_name": "Python 3",
   "language": "python",
   "name": "python3"
  },
  "language_info": {
   "codemirror_mode": {
    "name": "ipython",
    "version": 3
   },
   "file_extension": ".py",
   "mimetype": "text/x-python",
   "name": "python",
   "nbconvert_exporter": "python",
   "pygments_lexer": "ipython3",
   "version": "3.8.5"
  }
 },
 "nbformat": 4,
 "nbformat_minor": 1
}